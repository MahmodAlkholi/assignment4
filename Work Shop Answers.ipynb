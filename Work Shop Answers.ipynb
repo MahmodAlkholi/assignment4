{
 "cells": [
  {
   "cell_type": "markdown",
   "id": "b11b9d3b",
   "metadata": {},
   "source": [
    "# Task 1"
   ]
  },
  {
   "cell_type": "markdown",
   "id": "b8ffe557",
   "metadata": {},
   "source": [
    "- Calculate Factorial using recursion"
   ]
  },
  {
   "cell_type": "code",
   "execution_count": 31,
   "id": "e35893e7",
   "metadata": {},
   "outputs": [
    {
     "data": {
      "text/plain": [
       "120"
      ]
     },
     "execution_count": 31,
     "metadata": {},
     "output_type": "execute_result"
    }
   ],
   "source": [
    "def get_fact(num):\n",
    "    if num == 0:\n",
    "        return 1\n",
    "    \n",
    "    return num * get_fact(num - 1)\n",
    "get_fact(5)"
   ]
  },
  {
   "cell_type": "markdown",
   "id": "1fae0262",
   "metadata": {},
   "source": [
    "# Task 2"
   ]
  },
  {
   "cell_type": "markdown",
   "id": "b8461a0c",
   "metadata": {},
   "source": [
    "- Write a function that takes a number and return True if this number is prime and False if not"
   ]
  },
  {
   "cell_type": "code",
   "execution_count": 37,
   "id": "fe0d7be0",
   "metadata": {},
   "outputs": [],
   "source": [
    "def get_prim(num):\n",
    "    while num > 1:\n",
    "        if num % (num-1) != 0:\n",
    "            return False\n",
    "            num -= 1\n",
    "        else:\n",
    "            True\n",
    "\n",
    "            \n",
    "    \n",
    "get_prim(1)"
   ]
  },
  {
   "cell_type": "markdown",
   "id": "971b6ec3",
   "metadata": {},
   "source": [
    "# Task 3"
   ]
  },
  {
   "cell_type": "markdown",
   "id": "85eff682",
   "metadata": {},
   "source": [
    "- Write a function that takes two numbers and return a list of common dividors"
   ]
  },
  {
   "cell_type": "code",
   "execution_count": 51,
   "id": "2ebbbab7",
   "metadata": {},
   "outputs": [
    {
     "name": "stdout",
     "output_type": "stream",
     "text": [
      "1\n"
     ]
    }
   ],
   "source": [
    "def dividors(num1 , num2):\n",
    "\n",
    "    for i in (list(range(num1 , num2 +1))):\n",
    "        if num1%i == 0 and num2%i == 0:\n",
    "            print(i)\n",
    "        \n",
    "    \n",
    "        \n",
    "dividors(1 , 10)"
   ]
  },
  {
   "cell_type": "markdown",
   "id": "6422d5e7",
   "metadata": {},
   "source": [
    "# Task 4"
   ]
  },
  {
   "cell_type": "markdown",
   "id": "2e6dd74a",
   "metadata": {},
   "source": [
    "- Given two strings, write a program that efficiently finds the longest common subsequence"
   ]
  },
  {
   "cell_type": "code",
   "execution_count": 52,
   "id": "d51665cb",
   "metadata": {},
   "outputs": [
    {
     "data": {
      "text/plain": [
       "'I am studying a Machine Learning Course is longer'"
      ]
     },
     "execution_count": 52,
     "metadata": {},
     "output_type": "execute_result"
    }
   ],
   "source": [
    "str1 = \"Welcome to Machine Learning Diploma\"\n",
    "str2 = \"I am studying a Machine Learning Course\"\n",
    "\n",
    "def get_longest(words1 , words2):\n",
    "    if len(words1.strip()) > len(words2.strip()):\n",
    "        return f\"{words1} is longer\"\n",
    "    \n",
    "    else:\n",
    "        return f\"{words2} is longer\"\n",
    "    \n",
    "    \n",
    "get_longest(str1 , str2)"
   ]
  },
  {
   "cell_type": "markdown",
   "id": "9aafd4d8",
   "metadata": {},
   "source": [
    "# Task 10: Person class and child Student class"
   ]
  },
  {
   "cell_type": "markdown",
   "id": "b90d28bd",
   "metadata": {},
   "source": [
    "Create a Python class Person with attributes: name and age.\n",
    "1. Create a display() method that displays the name and age of an object created via the Person class.\n",
    "2. Create a child class Student which inherits from the Person class and which also has an extra attribute called school.\n",
    "3. Create a method displayStudent() that displays the name, age and section of an object created via the Student class.\n",
    "4. Create a student object via an instantiation on the Student class and then test the displayStudent method"
   ]
  },
  {
   "cell_type": "code",
   "execution_count": 1,
   "id": "e753834a",
   "metadata": {},
   "outputs": [],
   "source": [
    "    #  Python class Person with attributes: name and age\n",
    "class Person:   \n",
    "    def __init__ (self , name = \"Mahmoud\" , age = 25):\n",
    "        self.name = name\n",
    "        self.age = age\n",
    "        \n",
    "    #  display() method that displays the name and age of an object created via the Person class     \n",
    "    def display(self):  \n",
    "        return f\"the name is {self.name} and his age is {self.age}\"\n",
    "    \n",
    "    "
   ]
  },
  {
   "cell_type": "markdown",
   "id": "20c8e1c0",
   "metadata": {},
   "source": [
    "**display() method**"
   ]
  },
  {
   "cell_type": "code",
   "execution_count": 3,
   "id": "d199b307",
   "metadata": {},
   "outputs": [
    {
     "data": {
      "text/plain": [
       "'the name is Mahmoud and his age is 25'"
      ]
     },
     "execution_count": 3,
     "metadata": {},
     "output_type": "execute_result"
    }
   ],
   "source": [
    "p = Person()\n",
    "p.display()"
   ]
  },
  {
   "cell_type": "markdown",
   "id": "f6ac7590",
   "metadata": {},
   "source": [
    "**Student which inherits from the Person class and which also has an extra attribute called school**"
   ]
  },
  {
   "cell_type": "code",
   "execution_count": 10,
   "id": "82d15a28",
   "metadata": {},
   "outputs": [],
   "source": [
    "# Student which inherits from the Person class and which also has an extra attribute called school\n",
    "class Student(Person):\n",
    "    def __init__(self , name= \"Ahmed\" , age = 24 , school = \"portsaid school\"):\n",
    "        super().__init__ (name , age)\n",
    "\n",
    "        self.school = school\n",
    "    # displayStudent() that displays the name, age and section of an object created via the Student class\n",
    "    def display_student(self):\n",
    "        return f\"his name is {self.name} , his age is {self.age} and his school is {self.school}\""
   ]
  },
  {
   "cell_type": "markdown",
   "id": "72a83a4f",
   "metadata": {},
   "source": [
    "**displayStudent() that displays the name, age and section of an object created via the Student class**"
   ]
  },
  {
   "cell_type": "code",
   "execution_count": 12,
   "id": "d3a077f9",
   "metadata": {},
   "outputs": [
    {
     "data": {
      "text/plain": [
       "'his name is Ahmed , his age is 24 and his school is portsaid school'"
      ]
     },
     "execution_count": 12,
     "metadata": {},
     "output_type": "execute_result"
    }
   ],
   "source": [
    "s = Student()\n",
    "s.display_student()"
   ]
  },
  {
   "cell_type": "markdown",
   "id": "24351417",
   "metadata": {},
   "source": [
    "# Task 11: Rectangle class:"
   ]
  },
  {
   "cell_type": "markdown",
   "id": "2b5667ce",
   "metadata": {},
   "source": [
    "1. Write a Rectangle class in Python language, allowing you to build a rectangle with length and width attributes.\n",
    "2. Create a Perimeter() method to calculate the perimeter of the rectangle and a Area() method to calculate the area of the rectangle.\n",
    "3. Create a method display() that display the length, width, perimeter and area of an object created using an instantiation on rectangle class.\n",
    "4. Create a Parallelepipede child class inheriting from the Rectangle class and with a height attribute and another Volume() method to calculate the volume of the Parallelepiped."
   ]
  },
  {
   "cell_type": "code",
   "execution_count": 21,
   "id": "f465895d",
   "metadata": {},
   "outputs": [],
   "source": [
    "# Rectangle class in Python language, allowing you to build a rectangle with length and width attributes\n",
    "class Rectangle:\n",
    "    def __init__ (self , length = 1 , width = 1):\n",
    "        self.length = length\n",
    "        self.width = width\n",
    "        \n",
    "    # Perimeter() method to calculate the perimeter of the rectangle\n",
    "    def Perimeter(self):\n",
    "        result = (self.length + self.width) * 2\n",
    "        return result\n",
    "    \n",
    "    # Area() method to calculate the area of the rectangle\n",
    "    def Area(self):\n",
    "        area_result = self.length * self.width\n",
    "        return area_result\n",
    "    \n",
    "    # display() that display the length, width, perimeter and area \n",
    "    def display(self):\n",
    "        return f\"the rectangle width is {self.width} , the lingth is {self.length} , the perimeter is {self.Perimeter()} and area is {self.Area()}\""
   ]
  },
  {
   "cell_type": "markdown",
   "id": "b075b724",
   "metadata": {},
   "source": [
    "**display() method**"
   ]
  },
  {
   "cell_type": "code",
   "execution_count": 23,
   "id": "135fd5a9",
   "metadata": {},
   "outputs": [
    {
     "data": {
      "text/plain": [
       "'the rectangle width is 8 , the lingth is 5 , the perimeter is 26 and area is 40'"
      ]
     },
     "execution_count": 23,
     "metadata": {},
     "output_type": "execute_result"
    }
   ],
   "source": [
    "r = Rectangle(5 , 8)\n",
    "r.display()"
   ]
  },
  {
   "cell_type": "code",
   "execution_count": 31,
   "id": "85ef9ea1",
   "metadata": {},
   "outputs": [
    {
     "data": {
      "text/plain": [
       "40"
      ]
     },
     "execution_count": 31,
     "metadata": {},
     "output_type": "execute_result"
    }
   ],
   "source": [
    "r.Area()"
   ]
  },
  {
   "cell_type": "markdown",
   "id": "48e4c365",
   "metadata": {},
   "source": [
    "**Parallelepipede child class inheriting from the Rectangle class and with a height attribute and another Volume() method to calculate the volume of the Parallelepiped**"
   ]
  },
  {
   "cell_type": "code",
   "execution_count": 36,
   "id": "b95ea4de",
   "metadata": {},
   "outputs": [],
   "source": [
    "class Parallelepipede(Rectangle):\n",
    "    def __init__(self , length = 1 , width = 1 , hight = 1):\n",
    "        super().__init__(length = 1 , width = 1)\n",
    "        self.hight = hight\n",
    "        \n",
    "    def get_volume(self):\n",
    "        return f\"the volume is {r.Area() * self.hight}\""
   ]
  },
  {
   "cell_type": "code",
   "execution_count": 37,
   "id": "223d8609",
   "metadata": {},
   "outputs": [
    {
     "data": {
      "text/plain": [
       "'the volume is 120'"
      ]
     },
     "execution_count": 37,
     "metadata": {},
     "output_type": "execute_result"
    }
   ],
   "source": [
    "p = Parallelepipede(5 , 8 , 3)\n",
    "p.get_volume()"
   ]
  },
  {
   "cell_type": "code",
   "execution_count": null,
   "id": "a625bd88",
   "metadata": {},
   "outputs": [],
   "source": []
  }
 ],
 "metadata": {
  "kernelspec": {
   "display_name": "Python 3 (ipykernel)",
   "language": "python",
   "name": "python3"
  },
  "language_info": {
   "codemirror_mode": {
    "name": "ipython",
    "version": 3
   },
   "file_extension": ".py",
   "mimetype": "text/x-python",
   "name": "python",
   "nbconvert_exporter": "python",
   "pygments_lexer": "ipython3",
   "version": "3.11.3"
  }
 },
 "nbformat": 4,
 "nbformat_minor": 5
}
